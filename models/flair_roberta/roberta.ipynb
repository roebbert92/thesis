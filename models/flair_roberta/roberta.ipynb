{
 "cells": [
  {
   "cell_type": "code",
   "execution_count": 17,
   "metadata": {},
   "outputs": [
    {
     "name": "stdout",
     "output_type": "stream",
     "text": [
      "['I', 'like', '<m>London</m>:location', '.']\n",
      "['▁I', '▁like', '<m>', '▁London', '</m>', '▁:', 'location', '▁', '.'] [87, 1884, 250002, 9020, 250003, 152, 87632, 6, 5] 9\n"
     ]
    },
    {
     "data": {
      "text/plain": [
       "(['▁I', '▁like', '<m>', '▁London', '</m>', '▁:', 'location', '▁', '.'],\n",
       " [87, 1884, 250002, 9020, 250003, 152, 87632, 6, 5],\n",
       " 9)"
      ]
     },
     "execution_count": 17,
     "metadata": {},
     "output_type": "execute_result"
    }
   ],
   "source": [
    "from transformers import XLMRobertaTokenizer\n",
    "tokenizer = XLMRobertaTokenizer.from_pretrained(\n",
    "            \"xlm-roberta-large\")\n",
    "tokenizer.add_tokens(new_tokens=[\"<m>\", \"</m>\"], special_tokens=True)\n",
    "print(\"I like <m>London</m>:location .\".split(\" \"))\n",
    "spaced_ids = [token for word in \"I like <m>London</m>:location .\".split(\" \") for token in tokenizer.encode(word, add_special_tokens=False)]\n",
    "ids = tokenizer.encode(\"I like <m>London</m>:location .\", add_special_tokens=False)\n",
    "print(tokenizer.convert_ids_to_tokens(ids), ids, len(ids))\n",
    "tokenizer.convert_ids_to_tokens(spaced_ids), spaced_ids, len(spaced_ids)"
   ]
  }
 ],
 "metadata": {
  "kernelspec": {
   "display_name": "flair",
   "language": "python",
   "name": "python3"
  },
  "language_info": {
   "codemirror_mode": {
    "name": "ipython",
    "version": 3
   },
   "file_extension": ".py",
   "mimetype": "text/x-python",
   "name": "python",
   "nbconvert_exporter": "python",
   "pygments_lexer": "ipython3",
   "version": "3.11.4"
  },
  "orig_nbformat": 4
 },
 "nbformat": 4,
 "nbformat_minor": 2
}
