{
 "cells": [
  {
   "attachments": {},
   "cell_type": "markdown",
   "metadata": {},
   "source": [
    "# Experiment 2: Content\n",
    "## How sensitive is the T5-ASP model to changes in gazetteer content quality and quantity?\n",
    "\n",
    "### Datasets"
   ]
  },
  {
   "cell_type": "code",
   "execution_count": 1,
   "metadata": {},
   "outputs": [],
   "source": [
    "import json\n",
    "\n",
    "with open(\"/home/loebbert/projects/thesis/data/mlowner/lowner_train.json\",\n",
    "          encoding=\"utf-8\") as file:\n",
    "    lowner_train = json.load(file)\n",
    "\n",
    "with open(\"/home/loebbert/projects/thesis/data/mlowner/lowner_dev.json\",\n",
    "          encoding=\"utf-8\") as file:\n",
    "    lowner_dev = json.load(file)\n",
    "\n",
    "with open(\"/home/loebbert/projects/thesis/data/mlowner/lowner_test.json\",\n",
    "          encoding=\"utf-8\") as file:\n",
    "    lowner_test = json.load(file)\n",
    "\n",
    "with open(\"/home/loebbert/projects/thesis/data/mlowner/lowner_gazetteer.json\",\n",
    "          encoding=\"utf-8\") as file:\n",
    "    lowner_gazetteer = json.load(file)\n",
    "\n",
    "with open(\n",
    "        \"/home/loebbert/projects/thesis/data/multiconer/multiconer_test.json\",\n",
    "        encoding=\"utf-8\") as file:\n",
    "    multiconer_test = json.load(file)\n",
    "\n",
    "with open(\"/home/loebbert/projects/thesis/data/mlowner/lowner_types.json\", encoding=\"utf-8\") as file:\n",
    "    types = json.load(file)[\"entities\"]\n"
   ]
  },
  {
   "attachments": {},
   "cell_type": "markdown",
   "metadata": {},
   "source": [
    "### Scenario\n",
    "Painstakingly labeled amount of data:\n",
    "- 100% Lowner train + dev dataset\n",
    "- 12000 items of multiconer-test (2000 each): uniform distribution of labels\n",
    "- parts of lowner gazetteer: top-5 similarity sampled by using parts of multiconer-test -> quick gazetteers"
   ]
  },
  {
   "attachments": {},
   "cell_type": "markdown",
   "metadata": {},
   "source": [
    "#### Multiconer + gazetteer data sampling"
   ]
  },
  {
   "cell_type": "code",
   "execution_count": 2,
   "metadata": {},
   "outputs": [],
   "source": [
    "from typing import List\n",
    "from collections import defaultdict, Counter\n",
    "import random\n",
    "import pandas as pd\n",
    "\n",
    "def per_type_uniform_sampling(dataset: List[dict], types: List[str], sample_size: int):\n",
    "    # count entities per doc\n",
    "    doc_entity_count = []\n",
    "    for doc in dataset:\n",
    "        doc_entity_count.append({\n",
    "            \"doc_id\": doc[\"doc_id\"],\n",
    "            **Counter([ent[\"type\"] for ent in doc[\"entities\"]])\n",
    "        })\n",
    "    count_df = pd.DataFrame.from_records(doc_entity_count).fillna(0)\n",
    "\n",
    "    # get types\n",
    "    type_to_ids = {\n",
    "        t: frozenset(count_df[count_df[t]>0][\"doc_id\"].tolist())\n",
    "        for t in types\n",
    "    }\n",
    "    type_count = defaultdict(int)\n",
    "    sampled_ids = set()\n",
    "\n",
    "    type_set = list(types)\n",
    "    random.shuffle(type_set)\n",
    "\n",
    "    for typ in type_set:\n",
    "        done_sampling = False\n",
    "        while not done_sampling:\n",
    "            if type_count[typ] >= sample_size:\n",
    "                done_sampling = True\n",
    "                break\n",
    "            sample_set = list(type_to_ids[typ].difference(sampled_ids))\n",
    "            select_id = random.choice(sample_set)\n",
    "            sampled_ids.add(select_id)\n",
    "            entity_count = count_df[count_df[\"doc_id\"]==select_id].iloc[0]\n",
    "            for t in types:\n",
    "                type_count[t]+=entity_count[t]\n",
    "\n",
    "    return [doc for doc in dataset if doc[\"doc_id\"] in sampled_ids], type_count\n"
   ]
  },
  {
   "cell_type": "code",
   "execution_count": 3,
   "metadata": {},
   "outputs": [],
   "source": [
    "import random\n",
    "random.seed(1)\n",
    "docs1, type_count1 = per_type_uniform_sampling(\n",
    "    multiconer_test, types, 2000)\n",
    "\n",
    "random.seed(2)\n",
    "docs2, type_count2 = per_type_uniform_sampling(\n",
    "    multiconer_test, types, 2000)\n",
    "\n",
    "random.seed(3)\n",
    "docs3, type_count3 = per_type_uniform_sampling(multiconer_test, types, 2000)\n"
   ]
  },
  {
   "cell_type": "code",
   "execution_count": 4,
   "metadata": {},
   "outputs": [
    {
     "data": {
      "text/plain": [
       "(defaultdict(int,\n",
       "             {'corporation': 2256.0,\n",
       "              'location': 2104.0,\n",
       "              'group': 2001.0,\n",
       "              'person': 2556.0,\n",
       "              'creative-work': 2047.0,\n",
       "              'product': 2056.0}),\n",
       " defaultdict(int,\n",
       "             {'corporation': 2277.0,\n",
       "              'location': 2000.0,\n",
       "              'group': 2132.0,\n",
       "              'person': 2584.0,\n",
       "              'creative-work': 2075.0,\n",
       "              'product': 2017.0}),\n",
       " defaultdict(int,\n",
       "             {'location': 2297.0,\n",
       "              'group': 2000.0,\n",
       "              'corporation': 2205.0,\n",
       "              'person': 2504.0,\n",
       "              'creative-work': 2048.0,\n",
       "              'product': 2033.0}))"
      ]
     },
     "execution_count": 4,
     "metadata": {},
     "output_type": "execute_result"
    }
   ],
   "source": [
    "type_count1, type_count2, type_count3"
   ]
  },
  {
   "cell_type": "code",
   "execution_count": 5,
   "metadata": {},
   "outputs": [
    {
     "data": {
      "text/plain": [
       "({'docs1_to_docs2': 0.05031511519785102,\n",
       "  'docs2_to_docs1': 0.05076089222430686,\n",
       "  'docs1_to_docs3': 0.05114164686434549,\n",
       "  'docs3_to_docs1': 0.0509416486569929,\n",
       "  'docs2_to_docs3': 0.04857202418178028,\n",
       "  'docs3_to_docs2': 0.04795718843264382},\n",
       " 9679,\n",
       " 9594,\n",
       " 9717)"
      ]
     },
     "execution_count": 5,
     "metadata": {},
     "output_type": "execute_result"
    }
   ],
   "source": [
    "docs1_set = set([doc[\"doc_id\"] for doc in docs1])\n",
    "docs2_set = set([doc[\"doc_id\"] for doc in docs2])\n",
    "docs3_set = set([doc[\"doc_id\"] for doc in docs3])\n",
    "\n",
    "docs1_docs2_overlap = docs1_set.intersection(docs2_set)\n",
    "docs1_docs3_overlap = docs1_set.intersection(docs3_set)\n",
    "docs2_docs3_overlap = docs2_set.intersection(docs3_set)\n",
    "\n",
    "res = {\n",
    "    \"docs1_to_docs2\": len(docs1_docs2_overlap) / len(docs1_set),\n",
    "    \"docs2_to_docs1\": len(docs1_docs2_overlap) / len(docs2_set),\n",
    "    \"docs1_to_docs3\": len(docs1_docs3_overlap) / len(docs1_set),\n",
    "    \"docs3_to_docs1\": len(docs1_docs3_overlap) / len(docs3_set),\n",
    "    \"docs2_to_docs3\": len(docs2_docs3_overlap) / len(docs2_set),\n",
    "    \"docs3_to_docs2\": len(docs2_docs3_overlap) / len(docs3_set),\n",
    "}\n",
    "res, len(docs1_set), len(docs2_set), len(docs3_set)"
   ]
  },
  {
   "cell_type": "code",
   "execution_count": 6,
   "metadata": {},
   "outputs": [
    {
     "name": "stderr",
     "output_type": "stream",
     "text": [
      "Expected Entity Coverage Ratio: 100%|██████████| 9/9 [00:00<00:00, 137769.11it/s]\n"
     ]
    },
    {
     "data": {
      "image/png": "[encoded data removed]",
      "text/plain": [
       "<Figure size 640x480 with 2 Axes>"
      ]
     },
     "execution_count": 6,
     "metadata": {},
     "output_type": "execute_result"
    },
    {
     "data": {
      "image/png": "[encoded data removed]",
      "text/plain": [
       "<Figure size 640x480 with 2 Axes>"
      ]
     },
     "metadata": {},
     "output_type": "display_data"
    }
   ],
   "source": [
    "from data_metrics.entity_coverage_ratio import confusion_matrix_expected_entity_coverage_ratio\n",
    "from data_metrics.utils import visualize_confusion_matrix\n",
    "\n",
    "cm = confusion_matrix_expected_entity_coverage_ratio([docs1, docs2, docs3], [\"docs1\", \"docs2\", \"docs3\"])\n",
    "visualize_confusion_matrix(cm, \"expected_entity_coverage_ratio\")"
   ]
  },
  {
   "attachments": {},
   "cell_type": "markdown",
   "metadata": {},
   "source": [
    "### Scenario\n",
    "Unfortunately, you made labelling mistakes and the data contains spelling errors as well\n",
    "- Was not that bad, but you noticed it (possible scenarios: 5%, 10%, 15% - https://arxiv.org/abs/2103.14749)\n",
    "- Data augmentation to introduce labelling errors: based on error types\n",
    "    - Wrong span, correct label: if len == 1, increase left or right, else increase/decrease left or right (depending on sentence length)\n",
    "    - wrong labels, correct span: randomize label\n",
    "    - not labeled: remove label\n",
    "    - wrong label, wrong span: Take unlabeled noun phrases and randomly choose a label\n",
    "- Data augmentation to introduce spelling/typing errors: https://github.com/makcedward/nlpaug"
   ]
  }
 ],
 "metadata": {
  "kernelspec": {
   "display_name": "haystack",
   "language": "python",
   "name": "python3"
  },
  "language_info": {
   "codemirror_mode": {
    "name": "ipython",
    "version": 3
   },
   "file_extension": ".py",
   "mimetype": "text/x-python",
   "name": "python",
   "nbconvert_exporter": "python",
   "pygments_lexer": "ipython3",
   "version": "3.10.10"
  },
  "orig_nbformat": 4
 },
 "nbformat": 4,
 "nbformat_minor": 2
}
