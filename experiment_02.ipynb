{
 "cells": [
  {
   "attachments": {},
   "cell_type": "markdown",
   "metadata": {},
   "source": [
    "# Experiment 2: Content\n",
    "## How sensitive is the T5-ASP model to changes in gazetteer content quality and quantity?\n",
    "\n",
    "### Datasets"
   ]
  },
  {
   "cell_type": "code",
   "execution_count": 2,
   "metadata": {},
   "outputs": [],
   "source": [
    "thesis_path = \"/Users/robinloebbert/Masterarbeit/thesis\""
   ]
  },
  {
   "cell_type": "code",
   "execution_count": 3,
   "metadata": {},
   "outputs": [],
   "source": [
    "import json\n",
    "import os\n",
    "\n",
    "with open(os.path.join(thesis_path, \"data/mlowner/lowner_train.json\"),\n",
    "          encoding=\"utf-8\") as file:\n",
    "    lowner_train = json.load(file)\n",
    "\n",
    "with open(os.path.join(thesis_path, \"data/mlowner/lowner_dev.json\"),\n",
    "          encoding=\"utf-8\") as file:\n",
    "    lowner_dev = json.load(file)\n",
    "\n",
    "with open(os.path.join(thesis_path, \"data/mlowner/lowner_test.json\"),\n",
    "          encoding=\"utf-8\") as file:\n",
    "    lowner_test = json.load(file)\n",
    "\n",
    "with open(os.path.join(thesis_path, \"data/mlowner/lowner_gazetteer.json\"),\n",
    "          encoding=\"utf-8\") as file:\n",
    "    lowner_gazetteer = json.load(file)\n",
    "\n",
    "with open(\n",
    "        os.path.join(thesis_path, \"data/multiconer/multiconer_test.json\"),\n",
    "        encoding=\"utf-8\") as file:\n",
    "    multiconer_test = json.load(file)\n",
    "\n",
    "with open(os.path.join(thesis_path, \"data/mlowner/lowner_types.json\"), encoding=\"utf-8\") as file:\n",
    "    types = json.load(file)[\"entities\"]\n"
   ]
  },
  {
   "attachments": {},
   "cell_type": "markdown",
   "metadata": {},
   "source": [
    "### Scenario\n",
    "Painstakingly labeled amount of data:\n",
    "- 100% Lowner train + dev dataset\n",
    "- 12000 items of multiconer-test (2000 each): uniform distribution of labels\n",
    "- parts of lowner gazetteer: top-5 similarity sampled by using parts of multiconer-test -> quick gazetteers"
   ]
  },
  {
   "attachments": {},
   "cell_type": "markdown",
   "metadata": {},
   "source": [
    "#### Multiconer + gazetteer data sampling"
   ]
  },
  {
   "cell_type": "code",
   "execution_count": 4,
   "metadata": {},
   "outputs": [],
   "source": [
    "from typing import List\n",
    "from collections import defaultdict, Counter\n",
    "import random\n",
    "import pandas as pd\n",
    "\n",
    "def per_type_uniform_sampling(dataset: List[dict], types: List[str], sample_size: int):\n",
    "    # count entities per doc\n",
    "    doc_entity_count = []\n",
    "    for doc in dataset:\n",
    "        doc_entity_count.append({\n",
    "            \"doc_id\": doc[\"doc_id\"],\n",
    "            **Counter([ent[\"type\"] for ent in doc[\"entities\"]])\n",
    "        })\n",
    "    count_df = pd.DataFrame.from_records(doc_entity_count).fillna(0)\n",
    "\n",
    "    # get types\n",
    "    type_to_ids = {\n",
    "        t: frozenset(count_df[count_df[t]>0][\"doc_id\"].tolist())\n",
    "        for t in types\n",
    "    }\n",
    "    type_count = defaultdict(int)\n",
    "    sampled_ids = set()\n",
    "\n",
    "    type_set = list(types)\n",
    "    random.shuffle(type_set)\n",
    "\n",
    "    for typ in type_set:\n",
    "        done_sampling = False\n",
    "        while not done_sampling:\n",
    "            if type_count[typ] >= sample_size:\n",
    "                done_sampling = True\n",
    "                break\n",
    "            sample_set = list(type_to_ids[typ].difference(sampled_ids))\n",
    "            select_id = random.choice(sample_set)\n",
    "            sampled_ids.add(select_id)\n",
    "            entity_count = count_df[count_df[\"doc_id\"]==select_id].iloc[0]\n",
    "            for t in types:\n",
    "                type_count[t]+=entity_count[t]\n",
    "\n",
    "    return [doc for doc in dataset if doc[\"doc_id\"] in sampled_ids], type_count\n"
   ]
  },
  {
   "cell_type": "code",
   "execution_count": 5,
   "metadata": {},
   "outputs": [],
   "source": [
    "import random\n",
    "random.seed(1)\n",
    "docs1, type_count1 = per_type_uniform_sampling(\n",
    "    multiconer_test, types, 2000)\n"
   ]
  },
  {
   "cell_type": "code",
   "execution_count": null,
   "metadata": {},
   "outputs": [],
   "source": [
    "\n",
    "random.seed(2)\n",
    "docs2, type_count2 = per_type_uniform_sampling(\n",
    "    multiconer_test, types, 2000)\n",
    "\n",
    "random.seed(3)\n",
    "docs3, type_count3 = per_type_uniform_sampling(multiconer_test, types, 2000)\n"
   ]
  },
  {
   "cell_type": "code",
   "execution_count": 4,
   "metadata": {},
   "outputs": [
    {
     "data": {
      "text/plain": [
       "(defaultdict(int,\n",
       "             {'corporation': 2256.0,\n",
       "              'location': 2104.0,\n",
       "              'group': 2001.0,\n",
       "              'person': 2556.0,\n",
       "              'creative-work': 2047.0,\n",
       "              'product': 2056.0}),\n",
       " defaultdict(int,\n",
       "             {'corporation': 2277.0,\n",
       "              'location': 2000.0,\n",
       "              'group': 2132.0,\n",
       "              'person': 2584.0,\n",
       "              'creative-work': 2075.0,\n",
       "              'product': 2017.0}),\n",
       " defaultdict(int,\n",
       "             {'location': 2297.0,\n",
       "              'group': 2000.0,\n",
       "              'corporation': 2205.0,\n",
       "              'person': 2504.0,\n",
       "              'creative-work': 2048.0,\n",
       "              'product': 2033.0}))"
      ]
     },
     "execution_count": 4,
     "metadata": {},
     "output_type": "execute_result"
    }
   ],
   "source": [
    "type_count1, type_count2, type_count3"
   ]
  },
  {
   "cell_type": "code",
   "execution_count": 5,
   "metadata": {},
   "outputs": [
    {
     "data": {
      "text/plain": [
       "({'docs1_to_docs2': 0.05031511519785102,\n",
       "  'docs2_to_docs1': 0.05076089222430686,\n",
       "  'docs1_to_docs3': 0.05114164686434549,\n",
       "  'docs3_to_docs1': 0.0509416486569929,\n",
       "  'docs2_to_docs3': 0.04857202418178028,\n",
       "  'docs3_to_docs2': 0.04795718843264382},\n",
       " 9679,\n",
       " 9594,\n",
       " 9717)"
      ]
     },
     "execution_count": 5,
     "metadata": {},
     "output_type": "execute_result"
    }
   ],
   "source": [
    "docs1_set = set([doc[\"doc_id\"] for doc in docs1])\n",
    "docs2_set = set([doc[\"doc_id\"] for doc in docs2])\n",
    "docs3_set = set([doc[\"doc_id\"] for doc in docs3])\n",
    "\n",
    "docs1_docs2_overlap = docs1_set.intersection(docs2_set)\n",
    "docs1_docs3_overlap = docs1_set.intersection(docs3_set)\n",
    "docs2_docs3_overlap = docs2_set.intersection(docs3_set)\n",
    "\n",
    "res = {\n",
    "    \"docs1_to_docs2\": len(docs1_docs2_overlap) / len(docs1_set),\n",
    "    \"docs2_to_docs1\": len(docs1_docs2_overlap) / len(docs2_set),\n",
    "    \"docs1_to_docs3\": len(docs1_docs3_overlap) / len(docs1_set),\n",
    "    \"docs3_to_docs1\": len(docs1_docs3_overlap) / len(docs3_set),\n",
    "    \"docs2_to_docs3\": len(docs2_docs3_overlap) / len(docs2_set),\n",
    "    \"docs3_to_docs2\": len(docs2_docs3_overlap) / len(docs3_set),\n",
    "}\n",
    "res, len(docs1_set), len(docs2_set), len(docs3_set)"
   ]
  },
  {
   "cell_type": "code",
   "execution_count": 8,
   "metadata": {},
   "outputs": [
    {
     "name": "stderr",
     "output_type": "stream",
     "text": [
      "Expected Entity Coverage Ratio: 100%|██████████| 49/49 [00:00<00:00, 452689.20it/s]\n"
     ]
    },
    {
     "data": {
      "image/png": "[encoded data removed]",
      "text/plain": [
       "<Figure size 640x480 with 2 Axes>"
      ]
     },
     "execution_count": 8,
     "metadata": {},
     "output_type": "execute_result"
    },
    {
     "data": {
      "image/png": "[encoded data removed]",
      "text/plain": [
       "<Figure size 640x480 with 2 Axes>"
      ]
     },
     "metadata": {},
     "output_type": "display_data"
    }
   ],
   "source": [
    "from data_metrics.entity_coverage_ratio import confusion_matrix_expected_entity_coverage_ratio\n",
    "from data_metrics.utils import visualize_confusion_matrix\n",
    "\n",
    "cm = confusion_matrix_expected_entity_coverage_ratio([\n",
    "    lowner_train, lowner_dev, lowner_test, docs1, docs2, docs3, multiconer_test\n",
    "], [\n",
    "    \"lowner_train\", \"lowner_dev\", \"lowner_test\", \"docs1\", \"docs2\", \"docs3\",\n",
    "    \"multiconer_test\"\n",
    "])\n",
    "visualize_confusion_matrix(cm, \"expected_entity_coverage_ratio\")"
   ]
  },
  {
   "attachments": {},
   "cell_type": "markdown",
   "metadata": {},
   "source": [
    "### Scenario\n",
    "Unfortunately, you made labelling mistakes and the data contains spelling errors as well\n",
    "- Was not that bad, but you noticed it (possible scenarios: 5%, 10%, 15% - https://arxiv.org/abs/2103.14749)\n",
    "- Data augmentation to introduce labelling errors: based on error types\n",
    "    - Wrong span, correct label: if len == 1, increase left or right, else increase/decrease left or right (depending on sentence length)\n",
    "    - Wrong span, wrong label: if len == 1, increase left or right, else increase/decrease left or right (depending on sentence length) and randomize label\n",
    "    - wrong labels, correct span: randomize label\n",
    "    - not labeled (false negative): remove label\n",
    "    - false positive: Take unlabeled noun phrases and randomly choose a label\n",
    "- Data augmentation to introduce spelling/typing errors: https://github.com/makcedward/nlpaug\n",
    "\n",
    "#### Application\n",
    "- make 5%, 10% or 15% of the whole dataset erroneous\n",
    "- pick a random suite of augmentations, shuffle their application order and apply them on the example\n",
    "\n",
    "#### Metrics\n",
    "In order to measure the augmentation effect, use the Error Metrics (entities) und do an exact text match"
   ]
  },
  {
   "cell_type": "code",
   "execution_count": 6,
   "metadata": {},
   "outputs": [
    {
     "data": {
      "text/plain": [
       "(9704,\n",
       " defaultdict(int,\n",
       "             {'corporation': 2264.0,\n",
       "              'location': 2104.0,\n",
       "              'group': 2000.0,\n",
       "              'person': 2534.0,\n",
       "              'creative-work': 2066.0,\n",
       "              'product': 2057.0}))"
      ]
     },
     "execution_count": 6,
     "metadata": {},
     "output_type": "execute_result"
    }
   ],
   "source": [
    "len(docs1), type_count1"
   ]
  },
  {
   "attachments": {},
   "cell_type": "markdown",
   "metadata": {},
   "source": [
    "#### Error Type 1 - False positives"
   ]
  },
  {
   "cell_type": "code",
   "execution_count": 230,
   "metadata": {},
   "outputs": [
    {
     "name": "stdout",
     "output_type": "stream",
     "text": [
      "2023-06-03 10:36:05,442 SequenceTagger predicts: Dictionary with 53 tags: <unk>, O, UH, ,, VBD, PRP, VB, PRP$, NN, RB, ., DT, JJ, VBP, VBG, IN, CD, NNS, NNP, WRB, VBZ, WDT, CC, TO, MD, VBN, WP, :, RP, EX, JJR, FW, XX, HYPH, POS, RBR, JJS, PDT, NNPS, RBS, AFX, WP$, -LRB-, -RRB-, ``, '', LS, $, SYM, ADD\n"
     ]
    }
   ],
   "source": [
    "from flair.models import SequenceTagger\n",
    "from flair.data import Sentence\n",
    "from typing import List\n",
    "import random\n",
    "import numpy as np\n",
    "import copy\n",
    "\n",
    "example1 = {\"tokens\": [\"walsh\", \"first\", \"came\", \"to\", \"prominence\", \"at\", \"inter\", \"county\", \"level\", \"as\", \"a\", \"member\", \"of\", \"the\", \"waterford\", \"minor\", \"hurling\", \"team\", \",\", \"however\", \",\", \"he\", \"had\", \"little\", \"success\", \"in\", \"this\", \"grade\", \".\"], \"extended\": [\"walsh\", \"first\", \"came\", \"to\", \"prominence\", \"at\", \"inter\", \"county\", \"level\", \"as\", \"a\", \"member\", \"of\", \"the\", \"waterford\", \"minor\", \"hurling\", \"team\", \",\", \"however\", \",\", \"he\", \"had\", \"little\", \"success\", \"in\", \"this\", \"grade\", \".\"], \"entities\": [{\"type\": \"group\", \"start\": 14, \"end\": 15}], \"doc_id\": \"lowner_train_1\"}\n",
    "example2 = {\"tokens\": [\"william\", \"t.\", \"glidden\", \",\", \"clipper\", \"ship\", \"line\", \"co\", \"owner\", \"and\", \"railroad\", \"investor\"], \"extended\": [\"william\", \"t.\", \"glidden\", \",\", \"clipper\", \"ship\", \"line\", \"co\", \"owner\", \"and\", \"railroad\", \"investor\"], \"entities\": [{\"type\": \"person\", \"start\": 0, \"end\": 3}], \"doc_id\": \"lowner_train_0\"}\n",
    "tagger = SequenceTagger.load(\"flair/pos-english-fast\")\n",
    "\n",
    "def get_random_mask(size: int):\n",
    "    if size == 0:\n",
    "        return []\n",
    "    mask = np.random.randint(2, size=size)\n",
    "    if mask.sum() == 0:\n",
    "        mask[np.random.randint(size)] = 1\n",
    "    return mask.tolist()\n",
    "\n",
    "def error_type1_augmentation(sample: dict, types: List[str]):\n",
    "    augmented_sample = copy.deepcopy(sample)\n",
    "    entity_spans = {(ent[\"start\"], ent[\"end\"]) for ent in augmented_sample[\"entities\"]}\n",
    "    # false positive: Take unlabeled noun phrases and randomly choose a label\n",
    "    sent = Sentence(augmented_sample[\"tokens\"])\n",
    "    tagger.predict(sent)\n",
    "    phrases = set()\n",
    "    current_phrase = {\"start\": -1, \"end\": -1}\n",
    "    for token in sent.get_labels(\"pos\"):\n",
    "        if \"NN\" in token.value:\n",
    "            if current_phrase[\"start\"] == -1:\n",
    "                current_phrase[\"start\"] = token.data_point.idx - 1\n",
    "            current_phrase[\"end\"] = token.data_point.idx\n",
    "        elif current_phrase[\"end\"]>-1:\n",
    "            phrases.add((current_phrase[\"start\"], current_phrase[\"end\"]))\n",
    "            current_phrase = {\"start\": -1, \"end\": -1}\n",
    "    if current_phrase[\"end\"]>-1:\n",
    "        phrases.add((current_phrase[\"start\"], current_phrase[\"end\"]))\n",
    "\n",
    "    valid_spans = list(phrases.difference(entity_spans))\n",
    "    mask = get_random_mask(len(valid_spans))\n",
    "    for span, valid in zip(valid_spans, mask): # type: ignore\n",
    "        if valid:\n",
    "            augmented_sample[\"entities\"].append({\n",
    "                \"start\": span[0],\n",
    "                \"end\": span[1],\n",
    "                \"type\": random.choice(types)\n",
    "            })\n",
    "    \n",
    "    return augmented_sample\n",
    "\n"
   ]
  },
  {
   "cell_type": "code",
   "execution_count": 231,
   "metadata": {},
   "outputs": [
    {
     "data": {
      "text/plain": [
       "{'tokens': ['walsh',\n",
       "  'first',\n",
       "  'came',\n",
       "  'to',\n",
       "  'prominence',\n",
       "  'at',\n",
       "  'inter',\n",
       "  'county',\n",
       "  'level',\n",
       "  'as',\n",
       "  'a',\n",
       "  'member',\n",
       "  'of',\n",
       "  'the',\n",
       "  'waterford',\n",
       "  'minor',\n",
       "  'hurling',\n",
       "  'team',\n",
       "  ',',\n",
       "  'however',\n",
       "  ',',\n",
       "  'he',\n",
       "  'had',\n",
       "  'little',\n",
       "  'success',\n",
       "  'in',\n",
       "  'this',\n",
       "  'grade',\n",
       "  '.'],\n",
       " 'extended': ['walsh',\n",
       "  'first',\n",
       "  'came',\n",
       "  'to',\n",
       "  'prominence',\n",
       "  'at',\n",
       "  'inter',\n",
       "  'county',\n",
       "  'level',\n",
       "  'as',\n",
       "  'a',\n",
       "  'member',\n",
       "  'of',\n",
       "  'the',\n",
       "  'waterford',\n",
       "  'minor',\n",
       "  'hurling',\n",
       "  'team',\n",
       "  ',',\n",
       "  'however',\n",
       "  ',',\n",
       "  'he',\n",
       "  'had',\n",
       "  'little',\n",
       "  'success',\n",
       "  'in',\n",
       "  'this',\n",
       "  'grade',\n",
       "  '.'],\n",
       " 'entities': [{'type': 'group', 'start': 14, 'end': 15},\n",
       "  {'start': 0, 'end': 1, 'type': 'group'},\n",
       "  {'start': 4, 'end': 5, 'type': 'creative-work'},\n",
       "  {'start': 24, 'end': 25, 'type': 'product'},\n",
       "  {'start': 16, 'end': 18, 'type': 'group'},\n",
       "  {'start': 27, 'end': 28, 'type': 'product'}],\n",
       " 'doc_id': 'lowner_train_1'}"
      ]
     },
     "execution_count": 231,
     "metadata": {},
     "output_type": "execute_result"
    }
   ],
   "source": [
    "\n",
    "res = error_type1_augmentation(example1, list(types))\n",
    "res"
   ]
  },
  {
   "attachments": {},
   "cell_type": "markdown",
   "metadata": {},
   "source": [
    "#### Error Type 2 - False negatives"
   ]
  },
  {
   "cell_type": "code",
   "execution_count": 234,
   "metadata": {},
   "outputs": [
    {
     "data": {
      "text/plain": [
       "{'tokens': ['walsh',\n",
       "  'first',\n",
       "  'came',\n",
       "  'to',\n",
       "  'prominence',\n",
       "  'at',\n",
       "  'inter',\n",
       "  'county',\n",
       "  'level',\n",
       "  'as',\n",
       "  'a',\n",
       "  'member',\n",
       "  'of',\n",
       "  'the',\n",
       "  'waterford',\n",
       "  'minor',\n",
       "  'hurling',\n",
       "  'team',\n",
       "  ',',\n",
       "  'however',\n",
       "  ',',\n",
       "  'he',\n",
       "  'had',\n",
       "  'little',\n",
       "  'success',\n",
       "  'in',\n",
       "  'this',\n",
       "  'grade',\n",
       "  '.'],\n",
       " 'extended': ['walsh',\n",
       "  'first',\n",
       "  'came',\n",
       "  'to',\n",
       "  'prominence',\n",
       "  'at',\n",
       "  'inter',\n",
       "  'county',\n",
       "  'level',\n",
       "  'as',\n",
       "  'a',\n",
       "  'member',\n",
       "  'of',\n",
       "  'the',\n",
       "  'waterford',\n",
       "  'minor',\n",
       "  'hurling',\n",
       "  'team',\n",
       "  ',',\n",
       "  'however',\n",
       "  ',',\n",
       "  'he',\n",
       "  'had',\n",
       "  'little',\n",
       "  'success',\n",
       "  'in',\n",
       "  'this',\n",
       "  'grade',\n",
       "  '.'],\n",
       " 'entities': [],\n",
       " 'doc_id': 'lowner_train_1'}"
      ]
     },
     "execution_count": 234,
     "metadata": {},
     "output_type": "execute_result"
    }
   ],
   "source": [
    "import numpy as np\n",
    "import copy\n",
    "\n",
    "def error_type2_augmentation(sample: dict, types: List[str]):\n",
    "    augmented_sample = copy.deepcopy(sample)\n",
    "    # not labeled (false negative): remove label\n",
    "    mask = get_random_mask(len(augmented_sample[\"entities\"]))\n",
    "    augmented_sample[\"entities\"] = [ent for valid, ent in zip(mask, augmented_sample[\"entities\"]) if not valid]\n",
    "    return augmented_sample\n",
    "\n",
    "res = error_type2_augmentation(example1, list(types))\n",
    "res"
   ]
  },
  {
   "attachments": {},
   "cell_type": "markdown",
   "metadata": {},
   "source": [
    "#### Error type 3 - wrong labels, correct span\n",
    "randomize label"
   ]
  },
  {
   "cell_type": "code",
   "execution_count": 235,
   "metadata": {},
   "outputs": [
    {
     "data": {
      "text/plain": [
       "{'tokens': ['walsh',\n",
       "  'first',\n",
       "  'came',\n",
       "  'to',\n",
       "  'prominence',\n",
       "  'at',\n",
       "  'inter',\n",
       "  'county',\n",
       "  'level',\n",
       "  'as',\n",
       "  'a',\n",
       "  'member',\n",
       "  'of',\n",
       "  'the',\n",
       "  'waterford',\n",
       "  'minor',\n",
       "  'hurling',\n",
       "  'team',\n",
       "  ',',\n",
       "  'however',\n",
       "  ',',\n",
       "  'he',\n",
       "  'had',\n",
       "  'little',\n",
       "  'success',\n",
       "  'in',\n",
       "  'this',\n",
       "  'grade',\n",
       "  '.'],\n",
       " 'extended': ['walsh',\n",
       "  'first',\n",
       "  'came',\n",
       "  'to',\n",
       "  'prominence',\n",
       "  'at',\n",
       "  'inter',\n",
       "  'county',\n",
       "  'level',\n",
       "  'as',\n",
       "  'a',\n",
       "  'member',\n",
       "  'of',\n",
       "  'the',\n",
       "  'waterford',\n",
       "  'minor',\n",
       "  'hurling',\n",
       "  'team',\n",
       "  ',',\n",
       "  'however',\n",
       "  ',',\n",
       "  'he',\n",
       "  'had',\n",
       "  'little',\n",
       "  'success',\n",
       "  'in',\n",
       "  'this',\n",
       "  'grade',\n",
       "  '.'],\n",
       " 'entities': [{'type': 'corporation', 'start': 14, 'end': 15}],\n",
       " 'doc_id': 'lowner_train_1'}"
      ]
     },
     "execution_count": 235,
     "metadata": {},
     "output_type": "execute_result"
    }
   ],
   "source": [
    "import copy\n",
    "def error_type3_augmentation(sample: dict, types: List[str]):\n",
    "    # wrong labels, correct span: randomize label\n",
    "    augmented_sample = copy.deepcopy(sample)\n",
    "    mask = get_random_mask(len(augmented_sample[\"entities\"]))\n",
    "    type_set = set(types)\n",
    "    for valid, entity in zip(mask, augmented_sample[\"entities\"]):\n",
    "        if valid:\n",
    "            valid_types = list(type_set.difference([entity[\"type\"]]))\n",
    "            entity[\"type\"] = random.choice(valid_types)\n",
    "    return augmented_sample\n",
    "\n",
    "res = error_type3_augmentation(example1, list(types))\n",
    "res"
   ]
  },
  {
   "attachments": {},
   "cell_type": "markdown",
   "metadata": {},
   "source": [
    "#### Error Type 4 - Overlapping span, wrong label\n",
    "Wrong span, wrong label: if len == 1, increase left or right, else increase/decrease left or right (depending on sentence length) and randomize label"
   ]
  },
  {
   "cell_type": "code",
   "execution_count": 237,
   "metadata": {},
   "outputs": [
    {
     "data": {
      "text/plain": [
       "{'tokens': ['walsh',\n",
       "  'first',\n",
       "  'came',\n",
       "  'to',\n",
       "  'prominence',\n",
       "  'at',\n",
       "  'inter',\n",
       "  'county',\n",
       "  'level',\n",
       "  'as',\n",
       "  'a',\n",
       "  'member',\n",
       "  'of',\n",
       "  'the',\n",
       "  'waterford',\n",
       "  'minor',\n",
       "  'hurling',\n",
       "  'team',\n",
       "  ',',\n",
       "  'however',\n",
       "  ',',\n",
       "  'he',\n",
       "  'had',\n",
       "  'little',\n",
       "  'success',\n",
       "  'in',\n",
       "  'this',\n",
       "  'grade',\n",
       "  '.'],\n",
       " 'extended': ['walsh',\n",
       "  'first',\n",
       "  'came',\n",
       "  'to',\n",
       "  'prominence',\n",
       "  'at',\n",
       "  'inter',\n",
       "  'county',\n",
       "  'level',\n",
       "  'as',\n",
       "  'a',\n",
       "  'member',\n",
       "  'of',\n",
       "  'the',\n",
       "  'waterford',\n",
       "  'minor',\n",
       "  'hurling',\n",
       "  'team',\n",
       "  ',',\n",
       "  'however',\n",
       "  ',',\n",
       "  'he',\n",
       "  'had',\n",
       "  'little',\n",
       "  'success',\n",
       "  'in',\n",
       "  'this',\n",
       "  'grade',\n",
       "  '.'],\n",
       " 'entities': [{'type': 'product', 'start': 14, 'end': 18}],\n",
       " 'doc_id': 'lowner_train_1'}"
      ]
     },
     "execution_count": 237,
     "metadata": {},
     "output_type": "execute_result"
    }
   ],
   "source": [
    "import copy\n",
    "\n",
    "def error_type4_augmentation(sample: dict,\n",
    "                             types: List[str], avg_entity_length: int = 3):\n",
    "    augmented_sample = copy.deepcopy(sample)\n",
    "    max_end = len(augmented_sample[\"tokens\"])\n",
    "    min_start = 0\n",
    "    mask = get_random_mask(len(augmented_sample[\"entities\"]))\n",
    "    augmented_sample[\"entities\"] = sorted(augmented_sample[\"entities\"], key=lambda x: x[\"start\"])\n",
    "    type_set = set(types)\n",
    "    action = {\"increase\", \"decrease\"}\n",
    "    direction = {\"left\", \"right\", \"both\"}\n",
    "\n",
    "    def apply_left_action(ents: List[dict], ent_idx: int, ent: dict, action: str):\n",
    "        if action == \"increase\":\n",
    "            # get left border\n",
    "            left_space = 0\n",
    "            if ent_idx > 0:\n",
    "                left_space = ent[\"start\"] - ents[ent_idx-1][\"end\"]\n",
    "            else:\n",
    "                left_space = ent[\"start\"]\n",
    "            left_space = left_space if left_space <= avg_entity_length else avg_entity_length\n",
    "            ent[\"start\"] -= random.randint(1, left_space) if left_space > 0 else 0\n",
    "        elif action == \"decrease\":\n",
    "            # get entity end as right border\n",
    "            right_space = ent[\"end\"] - ent[\"start\"] - 1\n",
    "            ent[\"start\"] += random.randint(1, right_space) if right_space > 0 else 0\n",
    "\n",
    "    def apply_right_action(ents: List[dict], ent_idx: int, ent: dict, action: str):\n",
    "        if action == \"increase\":\n",
    "            # get right border\n",
    "            right_space = 0\n",
    "            if ent_idx < len(ents) - 1:\n",
    "                right_space = ents[ent_idx+1][\"start\"] - ent[\"end\"]\n",
    "            else:\n",
    "                right_space = max_end - ent[\"end\"]\n",
    "            right_space = right_space if right_space <= avg_entity_length else avg_entity_length\n",
    "            ent[\"end\"] += random.randint(1, right_space) if right_space > 0 else 0\n",
    "        elif action == \"decrease\":\n",
    "            # get entity start as right border\n",
    "            left_space = ent[\"end\"] - ent[\"start\"] - 1\n",
    "            ent[\"end\"] -= random.randint(1, left_space) if left_space > 0 else 0\n",
    "        \n",
    "    for valid, entity_idx, entity in zip(mask, range(len(augmented_sample[\"entities\"])), # type: ignore\n",
    "                                         augmented_sample[\"entities\"]):  \n",
    "        if valid:\n",
    "            entity_length = entity[\"end\"] - entity[\"start\"]\n",
    "            valid_actions = copy.deepcopy(action)\n",
    "            valid_directions = copy.deepcopy(direction)\n",
    "            if entity_length == 1:\n",
    "                # increase only\n",
    "                valid_actions.remove(\"decrease\")\n",
    "            if (entity_idx > 0 and augmented_sample[\"entities\"][entity_idx - 1][\"end\"]\n",
    "                    == entity[\"start\"] - 1) or entity[\"start\"] == min_start:\n",
    "                # right only\n",
    "                valid_directions.remove(\"left\")\n",
    "                valid_directions.remove(\"both\")\n",
    "            if (entity_idx < len(augmented_sample[\"entities\"]) - 1 and augmented_sample[\"entities\"][entity_idx + 1][\"start\"]\n",
    "                    == entity[\"end\"] + 1) or entity[\"end\"] == max_end:\n",
    "                # left only\n",
    "                valid_directions.remove(\"right\")\n",
    "                if \"both\" in valid_directions:\n",
    "                    valid_directions.remove(\"both\")\n",
    "\n",
    "            if len(valid_actions) > 0 and len(valid_directions) > 0:\n",
    "                direction_chosen = random.choice(list(valid_directions))\n",
    "                if direction_chosen == \"both\":\n",
    "                    apply_left_action(augmented_sample[\"entities\"], entity_idx, entity, random.choice(list(valid_actions)))\n",
    "                    apply_right_action(augmented_sample[\"entities\"], entity_idx, entity, random.choice(list(valid_actions)))\n",
    "                elif direction_chosen == \"left\":\n",
    "                    apply_left_action(augmented_sample[\"entities\"], entity_idx, entity, random.choice(list(valid_actions)))\n",
    "                elif direction_chosen == \"right\":\n",
    "                    apply_right_action(augmented_sample[\"entities\"], entity_idx, entity, random.choice(list(valid_actions)))\n",
    "\n",
    "            # randomize label\n",
    "            valid_types = list(type_set.difference([entity[\"type\"]]))\n",
    "            entity[\"type\"] = random.choice(valid_types)\n",
    "            \n",
    "    return augmented_sample\n",
    "\n",
    "res = error_type4_augmentation(example1, list(types))\n",
    "res"
   ]
  },
  {
   "attachments": {},
   "cell_type": "markdown",
   "metadata": {},
   "source": [
    "#### Error Type 5 - Overlapping span, correct label\n",
    "if len == 1, increase left or right, else increase/decrease left or right (depending on sentence length)"
   ]
  },
  {
   "cell_type": "code",
   "execution_count": 240,
   "metadata": {},
   "outputs": [
    {
     "data": {
      "text/plain": [
       "{'tokens': ['walsh',\n",
       "  'first',\n",
       "  'came',\n",
       "  'to',\n",
       "  'prominence',\n",
       "  'at',\n",
       "  'inter',\n",
       "  'county',\n",
       "  'level',\n",
       "  'as',\n",
       "  'a',\n",
       "  'member',\n",
       "  'of',\n",
       "  'the',\n",
       "  'waterford',\n",
       "  'minor',\n",
       "  'hurling',\n",
       "  'team',\n",
       "  ',',\n",
       "  'however',\n",
       "  ',',\n",
       "  'he',\n",
       "  'had',\n",
       "  'little',\n",
       "  'success',\n",
       "  'in',\n",
       "  'this',\n",
       "  'grade',\n",
       "  '.'],\n",
       " 'extended': ['walsh',\n",
       "  'first',\n",
       "  'came',\n",
       "  'to',\n",
       "  'prominence',\n",
       "  'at',\n",
       "  'inter',\n",
       "  'county',\n",
       "  'level',\n",
       "  'as',\n",
       "  'a',\n",
       "  'member',\n",
       "  'of',\n",
       "  'the',\n",
       "  'waterford',\n",
       "  'minor',\n",
       "  'hurling',\n",
       "  'team',\n",
       "  ',',\n",
       "  'however',\n",
       "  ',',\n",
       "  'he',\n",
       "  'had',\n",
       "  'little',\n",
       "  'success',\n",
       "  'in',\n",
       "  'this',\n",
       "  'grade',\n",
       "  '.'],\n",
       " 'entities': [{'type': 'group', 'start': 12, 'end': 15}],\n",
       " 'doc_id': 'lowner_train_1'}"
      ]
     },
     "execution_count": 240,
     "metadata": {},
     "output_type": "execute_result"
    }
   ],
   "source": [
    "import copy\n",
    "def error_type5_augmentation(sample: dict,\n",
    "                             types: List[str], avg_entity_length: int = 3):\n",
    "    augmented_sample = copy.deepcopy(sample)\n",
    "    # Overlapping span, correct label: if len == 1, increase left or right, else increase/decrease left or right (depending on sentence length)\n",
    "    max_end = len(augmented_sample[\"tokens\"])\n",
    "    min_start = 0\n",
    "    mask = get_random_mask(len(augmented_sample[\"entities\"]))\n",
    "    augmented_sample[\"entities\"] = sorted(augmented_sample[\"entities\"], key=lambda x: x[\"start\"])\n",
    "    action = {\"increase\", \"decrease\"}\n",
    "    direction = {\"left\", \"right\", \"both\"}\n",
    "\n",
    "    def apply_left_action(ents: List[dict], ent_idx: int, ent: dict, action: str):\n",
    "        if action == \"increase\":\n",
    "            # get left border\n",
    "            left_space = 0\n",
    "            if ent_idx > 0:\n",
    "                left_space = ent[\"start\"] - ents[ent_idx-1][\"end\"]\n",
    "            else:\n",
    "                left_space = ent[\"start\"]\n",
    "            left_space = left_space if left_space <= avg_entity_length else avg_entity_length\n",
    "            ent[\"start\"] -= random.randint(1, left_space) if left_space > 0 else 0\n",
    "        elif action == \"decrease\":\n",
    "            # get entity end as right border\n",
    "            right_space = ent[\"end\"] - ent[\"start\"] - 1\n",
    "            ent[\"start\"] += random.randint(1, right_space) if right_space > 0 else 0\n",
    "\n",
    "    def apply_right_action(ents: List[dict], ent_idx: int, ent: dict, action: str):\n",
    "        if action == \"increase\":\n",
    "            # get right border\n",
    "            right_space = 0\n",
    "            if ent_idx < len(ents) - 1:\n",
    "                right_space = ents[ent_idx+1][\"start\"] - ent[\"end\"]\n",
    "            else:\n",
    "                right_space = max_end - ent[\"end\"]\n",
    "            right_space = right_space if right_space <= avg_entity_length else avg_entity_length\n",
    "            ent[\"end\"] += random.randint(1, right_space) if right_space > 0 else 0\n",
    "        elif action == \"decrease\":\n",
    "            # get entity start as right border\n",
    "            left_space = ent[\"end\"] - ent[\"start\"] - 1\n",
    "            ent[\"end\"] -= random.randint(1, left_space) if left_space > 0 else 0\n",
    "        \n",
    "    for valid, entity_idx, entity in zip(mask, range(len(augmented_sample[\"entities\"])), # type: ignore\n",
    "                                         augmented_sample[\"entities\"]):  \n",
    "        if valid:\n",
    "            entity_length = entity[\"end\"] - entity[\"start\"]\n",
    "            valid_actions = copy.deepcopy(action)\n",
    "            valid_directions = copy.deepcopy(direction)\n",
    "            if entity_length == 1:\n",
    "                # increase only\n",
    "                valid_actions.remove(\"decrease\")\n",
    "            if (entity_idx > 0 and augmented_sample[\"entities\"][entity_idx - 1][\"end\"]\n",
    "                    == entity[\"start\"] - 1) or entity[\"start\"] == min_start:\n",
    "                # right only\n",
    "                valid_directions.remove(\"left\")\n",
    "                valid_directions.remove(\"both\")\n",
    "            if (entity_idx < len(augmented_sample[\"entities\"]) - 1 and augmented_sample[\"entities\"][entity_idx + 1][\"start\"]\n",
    "                    == entity[\"end\"] + 1) or entity[\"end\"] == max_end:\n",
    "                # left only\n",
    "                valid_directions.remove(\"right\")\n",
    "                if \"both\" in valid_directions:\n",
    "                    valid_directions.remove(\"both\")\n",
    "\n",
    "            if len(valid_actions) > 0 and len(valid_directions) > 0:\n",
    "                direction_chosen = random.choice(list(valid_directions))\n",
    "                if direction_chosen == \"both\":\n",
    "                    apply_left_action(augmented_sample[\"entities\"], entity_idx, entity, random.choice(list(valid_actions)))\n",
    "                    apply_right_action(augmented_sample[\"entities\"], entity_idx, entity, random.choice(list(valid_actions)))\n",
    "                elif direction_chosen == \"left\":\n",
    "                    apply_left_action(augmented_sample[\"entities\"], entity_idx, entity, random.choice(list(valid_actions)))\n",
    "                elif direction_chosen == \"right\":\n",
    "                    apply_right_action(augmented_sample[\"entities\"], entity_idx, entity, random.choice(list(valid_actions)))\n",
    "    return augmented_sample\n",
    "                    \n",
    "   \n",
    "res = error_type5_augmentation(example1, list(types))\n",
    "res\n",
    "            "
   ]
  },
  {
   "attachments": {},
   "cell_type": "markdown",
   "metadata": {},
   "source": [
    "### Keyboard errors"
   ]
  },
  {
   "cell_type": "code",
   "execution_count": 242,
   "metadata": {},
   "outputs": [
    {
     "data": {
      "text/plain": [
       "{'tokens': ['walsh',\n",
       "  'first',\n",
       "  'came',\n",
       "  'to',\n",
       "  'prominence',\n",
       "  'at',\n",
       "  'inter',\n",
       "  'county',\n",
       "  'level',\n",
       "  'as',\n",
       "  'a',\n",
       "  'memnfr',\n",
       "  'of',\n",
       "  'the',\n",
       "  'waterford',\n",
       "  'minor',\n",
       "  'hurling',\n",
       "  'teak',\n",
       "  ',',\n",
       "  'however',\n",
       "  ',',\n",
       "  'he',\n",
       "  'had',\n",
       "  'little',\n",
       "  'success',\n",
       "  'in',\n",
       "  'this',\n",
       "  'grade',\n",
       "  '.'],\n",
       " 'extended': ['walsh',\n",
       "  'first',\n",
       "  'came',\n",
       "  'to',\n",
       "  'prominence',\n",
       "  'at',\n",
       "  'inter',\n",
       "  'county',\n",
       "  'level',\n",
       "  'as',\n",
       "  'a',\n",
       "  'member',\n",
       "  'of',\n",
       "  'the',\n",
       "  'waterford',\n",
       "  'minor',\n",
       "  'hurling',\n",
       "  'team',\n",
       "  ',',\n",
       "  'however',\n",
       "  ',',\n",
       "  'he',\n",
       "  'had',\n",
       "  'little',\n",
       "  'success',\n",
       "  'in',\n",
       "  'this',\n",
       "  'grade',\n",
       "  '.'],\n",
       " 'entities': [{'type': 'group', 'start': 14, 'end': 15}],\n",
       " 'doc_id': 'lowner_train_1'}"
      ]
     },
     "execution_count": 242,
     "metadata": {},
     "output_type": "execute_result"
    }
   ],
   "source": [
    "from nlpaug.augmenter.char import KeyboardAug\n",
    "\n",
    "\n",
    "keyboard_aug = KeyboardAug(aug_char_p=0.2,\n",
    "                           aug_char_max=3,\n",
    "                           aug_word_p=0.05,\n",
    "                           aug_word_max=6,\n",
    "                           tokenizer=lambda x: x.split(\" \"),\n",
    "                           reverse_tokenizer=lambda x: \" \".join(x),\n",
    "                           include_numeric=False,\n",
    "                           include_special_char=False,\n",
    "                           include_upper_case=False)\n",
    "\n",
    "def spelling_error_augmentation(sample: dict, types: List[str]):\n",
    "    augmented_sample = copy.deepcopy(sample)\n",
    "    augmented_sample[\"tokens\"] = keyboard_aug.augment(\" \".join(augmented_sample[\"tokens\"]))[0].split(\" \")\n",
    "    return augmented_sample\n",
    "    \n",
    "\n",
    "res = spelling_error_augmentation(example1, types)\n",
    "res"
   ]
  },
  {
   "attachments": {},
   "cell_type": "markdown",
   "metadata": {},
   "source": [
    "### Application\n",
    "- make 5%, 10% or 15% of the whole dataset erroneous\n",
    "- pick a random suite of augmentations, shuffle their application order and apply them on the example"
   ]
  },
  {
   "cell_type": "code",
   "execution_count": 243,
   "metadata": {},
   "outputs": [],
   "source": [
    "import numpy as np\n",
    "def make_erroneous_dataset(dataset: List[dict], types: List[str], ratio: float):\n",
    "    result_dataset = copy.deepcopy(dataset)\n",
    "    mask = np.zeros(len(dataset))\n",
    "    error_size = round(len(dataset) * ratio)+1\n",
    "    mask[:error_size] = 1\n",
    "    np.random.shuffle(mask)\n",
    "\n",
    "    type_list = list(types)\n",
    "\n",
    "    # augmentations\n",
    "    augmentations = [error_type1_augmentation, error_type2_augmentation, error_type3_augmentation, error_type4_augmentation, error_type5_augmentation, spelling_error_augmentation]\n",
    "     \n",
    "    for valid, sample_idx, sample in zip(mask, range(len(dataset)), dataset):\n",
    "        if valid:\n",
    "            mask_augmentations = get_random_mask(len(augmentations))\n",
    "            random.shuffle(augmentations)\n",
    "            augmented_sample = copy.deepcopy(sample)\n",
    "            for valid_aug, aug in zip(mask_augmentations, augmentations):\n",
    "                if valid_aug:\n",
    "                    augmented_sample = aug(augmented_sample, type_list)\n",
    "            result_dataset[sample_idx] = augmented_sample\n",
    "            \n",
    "    return result_dataset\n"
   ]
  },
  {
   "cell_type": "code",
   "execution_count": 244,
   "metadata": {},
   "outputs": [],
   "source": [
    "seed = 1\n",
    "np.random.seed(seed)\n",
    "random.seed(seed)\n",
    "res_dataset1 = make_erroneous_dataset(lowner_train, types, 0.15)\n",
    "             "
   ]
  },
  {
   "cell_type": "code",
   "execution_count": 246,
   "metadata": {},
   "outputs": [],
   "source": [
    "seed = 2\n",
    "np.random.seed(seed)\n",
    "random.seed(seed)\n",
    "res_dataset2 = make_erroneous_dataset(lowner_train, types, 0.15)"
   ]
  },
  {
   "cell_type": "code",
   "execution_count": 247,
   "metadata": {},
   "outputs": [],
   "source": [
    "seed = 3\n",
    "np.random.seed(seed)\n",
    "random.seed(seed)\n",
    "res_dataset3 = make_erroneous_dataset(lowner_train, types, 0.15)"
   ]
  },
  {
   "attachments": {},
   "cell_type": "markdown",
   "metadata": {},
   "source": [
    "TODO: Fix augmentation output, so that it just works on a sample, because keyboard augmentations\n",
    "- Add Metrics check"
   ]
  },
  {
   "cell_type": "code",
   "execution_count": 248,
   "metadata": {},
   "outputs": [
    {
     "name": "stdout",
     "output_type": "stream",
     "text": [
      "huggingface/tokenizers: The current process just got forked, after parallelism has already been used. Disabling parallelism to avoid deadlocks...\n",
      "To disable this warning, you can either:\n",
      "huggingface/tokenizers: The current process just got forked, after parallelism has already been used. Disabling parallelism to avoid deadlocks...\n",
      "huggingface/tokenizers: The current process just got forked, after parallelism has already been used. Disabling parallelism to avoid deadlocks...\n",
      "To disable this warning, you can either:\n",
      "To disable this warning, you can either:\n",
      "huggingface/tokenizers: The current process just got forked, after parallelism has already been used. Disabling parallelism to avoid deadlocks...\n",
      "\t- Avoid using `tokenizers` before the fork if possible\n",
      "\t- Avoid using `tokenizers` before the fork if possible\n",
      "To disable this warning, you can either:\n",
      "huggingface/tokenizers: The current process just got forked, after parallelism has already been used. Disabling parallelism to avoid deadlocks...\n",
      "huggingface/tokenizers: The current process just got forked, after parallelism has already been used. Disabling parallelism to avoid deadlocks...\n",
      "To disable this warning, you can either:\n",
      "\t- Avoid using `tokenizers` before the fork if possible\n",
      "To disable this warning, you can either:\n",
      "\t- Avoid using `tokenizers` before the fork if possible\n",
      "\t- Explicitly set the environment variable TOKENIZERS_PARALLELISM=(true | false)\n",
      "\t- Explicitly set the environment variable TOKENIZERS_PARALLELISM=(true | false)\n",
      "\t- Avoid using `tokenizers` before the fork if possible\n",
      "\t- Avoid using `tokenizers` before the fork if possible\n",
      "\t- Explicitly set the environment variable TOKENIZERS_PARALLELISM=(true | false)\n",
      "\t- Explicitly set the environment variable TOKENIZERS_PARALLELISM=(true | false)\n",
      "\t- Explicitly set the environment variable TOKENIZERS_PARALLELISM=(true | false)\n",
      "\t- Explicitly set the environment variable TOKENIZERS_PARALLELISM=(true | false)\n",
      "huggingface/tokenizers: The current process just got forked, after parallelism has already been used. Disabling parallelism to avoid deadlocks...\n",
      "To disable this warning, you can either:\n",
      "\t- Avoid using `tokenizers` before the fork if possible\n",
      "\t- Explicitly set the environment variable TOKENIZERS_PARALLELISM=(true | false)\n"
     ]
    },
    {
     "name": "stderr",
     "output_type": "stream",
     "text": [
      "Expected Entity Coverage Ratio: 100%|██████████| 16/16 [00:00<00:00, 100462.37it/s]\n"
     ]
    },
    {
     "data": {
      "image/png": "[encoded data removed]",
      "text/plain": [
       "<Figure size 640x480 with 2 Axes>"
      ]
     },
     "execution_count": 248,
     "metadata": {},
     "output_type": "execute_result"
    },
    {
     "data": {
      "image/png": "[encoded data removed]",
      "text/plain": [
       "<Figure size 640x480 with 2 Axes>"
      ]
     },
     "metadata": {},
     "output_type": "display_data"
    }
   ],
   "source": [
    "from data_metrics.entity_coverage_ratio import confusion_matrix_expected_entity_coverage_ratio\n",
    "from data_metrics.utils import visualize_confusion_matrix\n",
    "\n",
    "cm = confusion_matrix_expected_entity_coverage_ratio([\n",
    "    lowner_train, res_dataset1, res_dataset2, res_dataset3\n",
    "], [\n",
    "    \"lowner_train\", \"error1-lowner_train\", \"error2-lowner_train\", \"error3-lowner_train\"\n",
    "])\n",
    "visualize_confusion_matrix(cm, \"expected_entity_coverage_ratio\")"
   ]
  },
  {
   "cell_type": "code",
   "execution_count": 251,
   "metadata": {},
   "outputs": [
    {
     "data": {
      "text/plain": [
       "((1165, 782, 390, 821, 285), tensor(0.8663))"
      ]
     },
     "execution_count": 251,
     "metadata": {},
     "output_type": "execute_result"
    }
   ],
   "source": [
    "from models.metrics import ASPMetrics\n",
    "\n",
    "metrics = ASPMetrics()\n",
    "\n",
    "def to_prediction(entities: List[dict]):\n",
    "    return [(ent[\"start\"], ent[\"end\"], ent[\"type\"]) for ent in entities]\n",
    "\n",
    "for aug_sample, sample in zip(res_dataset3, lowner_train):\n",
    "    assert aug_sample[\"doc_id\"] == sample[\"doc_id\"]\n",
    "    metrics.update(sample[\"doc_id\"], to_prediction(aug_sample[\"entities\"]), to_prediction(sample[\"entities\"]))\n",
    "\n",
    "metrics.errors(), metrics.f1()"
   ]
  }
 ],
 "metadata": {
  "kernelspec": {
   "display_name": "haystack",
   "language": "python",
   "name": "python3"
  },
  "language_info": {
   "codemirror_mode": {
    "name": "ipython",
    "version": 3
   },
   "file_extension": ".py",
   "mimetype": "text/x-python",
   "name": "python",
   "nbconvert_exporter": "python",
   "pygments_lexer": "ipython3",
   "version": "3.9.16"
  },
  "orig_nbformat": 4
 },
 "nbformat": 4,
 "nbformat_minor": 2
}
