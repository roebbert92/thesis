{
 "cells": [
  {
   "cell_type": "code",
   "execution_count": 1,
   "metadata": {},
   "outputs": [],
   "source": [
    "import sys\n",
    "import os\n",
    "\n",
    "thesis_path = \"/\" + os.path.join(\n",
    "    *os.getcwd().split(os.path.sep)[:-1])\n",
    "sys.path.append(thesis_path)\n"
   ]
  },
  {
   "cell_type": "code",
   "execution_count": 2,
   "metadata": {},
   "outputs": [
    {
     "name": "stderr",
     "output_type": "stream",
     "text": [
      "100%|██████████| 2160/2160 [02:40<00:00, 13.46it/s]\n"
     ]
    }
   ],
   "source": [
    "from evaluations.content_02 import get_per_sample_metrics\n",
    "\n",
    "metrics_df = get_per_sample_metrics()"
   ]
  },
  {
   "cell_type": "code",
   "execution_count": 4,
   "metadata": {},
   "outputs": [
    {
     "name": "stdout",
     "output_type": "stream",
     "text": [
      "<class 'pandas.core.frame.DataFrame'>\n",
      "RangeIndex: 130766400 entries, 0 to 130766399\n",
      "Data columns (total 18 columns):\n",
      " #   Column          Dtype \n",
      "---  ------          ----- \n",
      " 0   seed            int64 \n",
      " 1   checkpoint      object\n",
      " 2   gazetteer_size  int64 \n",
      " 3   error_ratio     int64 \n",
      " 4   error_part      object\n",
      " 5   timestep        int64 \n",
      " 6   dataset         object\n",
      " 7   doc_id          object\n",
      " 8   targets         int64 \n",
      " 9   entity_type     object\n",
      " 10  tp              int64 \n",
      " 11  fn              int64 \n",
      " 12  fp              int64 \n",
      " 13  error_type1     int64 \n",
      " 14  error_type2     int64 \n",
      " 15  error_type3     int64 \n",
      " 16  error_type4     int64 \n",
      " 17  error_type5     int64 \n",
      "dtypes: int64(13), object(5)\n",
      "memory usage: 17.5+ GB\n"
     ]
    }
   ],
   "source": [
    "metrics_df.info()"
   ]
  }
 ],
 "metadata": {
  "kernelspec": {
   "display_name": "base",
   "language": "python",
   "name": "python3"
  },
  "language_info": {
   "codemirror_mode": {
    "name": "ipython",
    "version": 3
   },
   "file_extension": ".py",
   "mimetype": "text/x-python",
   "name": "python",
   "nbconvert_exporter": "python",
   "pygments_lexer": "ipython3",
   "version": "3.10.10"
  },
  "orig_nbformat": 4
 },
 "nbformat": 4,
 "nbformat_minor": 2
}
